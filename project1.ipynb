{
 "cells": [
  {
   "cell_type": "markdown",
   "id": "8ed474e7",
   "metadata": {},
   "source": [
    "## Data Preprocessing"
   ]
  },
  {
   "cell_type": "code",
   "execution_count": 28,
   "id": "facffd11",
   "metadata": {},
   "outputs": [],
   "source": [
    "import os\n",
    "import math\n",
    "import requests\n",
    "import pandas as pd\n",
    "import numpy as np\n",
    "import csv\n",
    "import matplotlib.pyplot as plt\n",
    "\n",
    "### Notebook Constants\n",
    "DATA_PATH = \"https://archive.ics.uci.edu/ml/machine-learning-databases/adult/adult.data\"\n",
    "COLUMNS = ['age', 'workclass', 'fnlwgt', 'education', 'education-num', 'marital-status', \n",
    "            'occupation', 'relationship', 'race', 'sex', 'capital-gain', \n",
    "           'capital-loss', 'hours-per-week', 'native-country', 'salary'] # From archive description, fnlwgt will be ignored"
   ]
  },
  {
   "cell_type": "code",
   "execution_count": 29,
   "id": "fee9ae7b",
   "metadata": {},
   "outputs": [],
   "source": [
    "req = requests.get(DATA_PATH)\n",
    "\n",
    "csvreader = csv.reader(req.text, delimiter=\",\")"
   ]
  },
  {
   "cell_type": "code",
   "execution_count": 30,
   "id": "f9278af8",
   "metadata": {},
   "outputs": [],
   "source": [
    "def dataToDict(dataText, rowdelimiter=\"\\n\", coldelimiter=\", \"):\n",
    "    \"\"\"\n",
    "    Splits the rows for the data points by the rowdelimiter.\n",
    "    Splits the column, row-wise \n",
    "    \"\"\"\n",
    "    rows = dataText.split(rowdelimiter)[:-2] # Final two rows are blank\n",
    "    return {i: data.split(coldelimiter) for i, data in enumerate(rows)}"
   ]
  },
  {
   "cell_type": "code",
   "execution_count": 33,
   "id": "dd578d55",
   "metadata": {},
   "outputs": [],
   "source": [
    "customer_data = dataToDict(req.text)\n",
    "customer_df = pd.DataFrame.from_dict(customer_data, orient='index', columns=COLUMNS)\n",
    "customer_df = customer_df.drop(\"fnlwgt\", axis=1)\n",
    "for col in [\"age\", \"education-num\", \"capital-gain\", \"capital-loss\", \"hours-per-week\"]: # Cast numerical columns to numerical data type\n",
    "    customer_df[col] = pd.to_numeric(customer_df[col])"
   ]
  },
  {
   "cell_type": "code",
   "execution_count": 35,
   "id": "d0531c73",
   "metadata": {},
   "outputs": [
    {
     "data": {
      "text/plain": [
       "0        39\n",
       "1        50\n",
       "2        38\n",
       "3        53\n",
       "4        28\n",
       "         ..\n",
       "32556    27\n",
       "32557    40\n",
       "32558    58\n",
       "32559    22\n",
       "32560    52\n",
       "Name: age, Length: 32561, dtype: int64"
      ]
     },
     "execution_count": 35,
     "metadata": {},
     "output_type": "execute_result"
    }
   ],
   "source": [
    "from sklearn.preprocessing import LabelEncoder\n",
    "categorical_attributes = [\"workclass\", \"education\", \"marital-status\", \"occupation\", \"relationship\", \"race\", \"sex\", \"native-country\"] # These attributes are categorical data\n",
    "le = LabelEncoder()\n",
    "encoded_df = pd.DataFrame()\n",
    "for cat in categorical_attributes:\n",
    "  tmp = pd.DataFrame(le.fit_transform(customer_df.loc[:, cat]), columns=[cat]) # Creates simple labeled data in place of categories in the range of (n-1) categories per column\n",
    "  encoded_df = pd.concat([encoded_df, tmp], axis=1)\n",
    "\n",
    "customer_df = pd.concat([encoded_df, customer_df.loc[:, [col for col in customer_df.columns if col not in categorical_attributes]]], axis=1) # Concatenate the categorical label encoded columns with the numerical columns\n",
    "\n",
    "# Encode salary\n",
    "customer_df[\"salary\"] = customer_df[\"salary\"].apply(lambda x: 0 if x == \"<=50K\" else 1)"
   ]
  },
  {
   "cell_type": "code",
   "execution_count": null,
   "id": "6ee0f230",
   "metadata": {},
   "outputs": [],
   "source": [
    "fig, axs = plt.subplots(13, 1, figsize=(6, 40))  # 13x1 grid\n",
    "\n",
    "for i, col in enumerate(customer_df.columns):\n",
    "  if col == \"salary\":\n",
    "    break\n",
    "  axs[i].scatter(sorted(customer_df[col].unique()), customer_df.groupby(col)['salary'].mean())\n",
    "  axs[i].set_title(f\"{col} vs salary\")\n",
    "  axs[i].grid(True)\n",
    "\n",
    "# Adjust layout\n",
    "plt.tight_layout()\n",
    "\n",
    "# Show the plots\n",
    "plt.show()"
   ]
  }
 ],
 "metadata": {
  "kernelspec": {
   "display_name": "Python 3 (ipykernel)",
   "language": "python",
   "name": "python3"
  },
  "language_info": {
   "codemirror_mode": {
    "name": "ipython",
    "version": 3
   },
   "file_extension": ".py",
   "mimetype": "text/x-python",
   "name": "python",
   "nbconvert_exporter": "python",
   "pygments_lexer": "ipython3",
   "version": "3.9.12"
  }
 },
 "nbformat": 4,
 "nbformat_minor": 5
}
