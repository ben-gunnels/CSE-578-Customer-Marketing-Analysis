{
 "cells": [
  {
   "cell_type": "markdown",
   "id": "8ed474e7",
   "metadata": {},
   "source": [
    "## Data Preprocessing"
   ]
  },
  {
   "cell_type": "code",
   "execution_count": 7,
   "id": "703271f5",
   "metadata": {},
   "outputs": [
    {
     "name": "stdout",
     "output_type": "stream",
     "text": [
      "Collecting statsmodels\n",
      "  Downloading statsmodels-0.14.2-cp310-cp310-manylinux_2_17_x86_64.manylinux2014_x86_64.whl.metadata (9.2 kB)\n",
      "Requirement already satisfied: numpy>=1.22.3 in /home/codespace/.local/lib/python3.10/site-packages (from statsmodels) (2.0.0)\n",
      "Requirement already satisfied: scipy!=1.9.2,>=1.8 in /home/codespace/.local/lib/python3.10/site-packages (from statsmodels) (1.14.0)\n",
      "Requirement already satisfied: pandas!=2.1.0,>=1.4 in /home/codespace/.local/lib/python3.10/site-packages (from statsmodels) (2.2.2)\n",
      "Collecting patsy>=0.5.6 (from statsmodels)\n",
      "  Downloading patsy-0.5.6-py2.py3-none-any.whl.metadata (3.5 kB)\n",
      "Requirement already satisfied: packaging>=21.3 in /home/codespace/.local/lib/python3.10/site-packages (from statsmodels) (24.1)\n",
      "Requirement already satisfied: python-dateutil>=2.8.2 in /home/codespace/.local/lib/python3.10/site-packages (from pandas!=2.1.0,>=1.4->statsmodels) (2.9.0.post0)\n",
      "Requirement already satisfied: pytz>=2020.1 in /home/codespace/.local/lib/python3.10/site-packages (from pandas!=2.1.0,>=1.4->statsmodels) (2024.1)\n",
      "Requirement already satisfied: tzdata>=2022.7 in /home/codespace/.local/lib/python3.10/site-packages (from pandas!=2.1.0,>=1.4->statsmodels) (2024.1)\n",
      "Requirement already satisfied: six in /home/codespace/.local/lib/python3.10/site-packages (from patsy>=0.5.6->statsmodels) (1.16.0)\n",
      "Downloading statsmodels-0.14.2-cp310-cp310-manylinux_2_17_x86_64.manylinux2014_x86_64.whl (10.8 MB)\n",
      "\u001b[2K   \u001b[90m━━━━━━━━━━━━━━━━━━━━━━━━━━━━━━━━━━━━━━━━\u001b[0m \u001b[32m10.8/10.8 MB\u001b[0m \u001b[31m58.8 MB/s\u001b[0m eta \u001b[36m0:00:00\u001b[0m:00:01\u001b[0m:01\u001b[0m\n",
      "\u001b[?25hDownloading patsy-0.5.6-py2.py3-none-any.whl (233 kB)\n",
      "\u001b[2K   \u001b[90m━━━━━━━━━━━━━━━━━━━━━━━━━━━━━━━━━━━━━━━━\u001b[0m \u001b[32m233.9/233.9 kB\u001b[0m \u001b[31m7.8 MB/s\u001b[0m eta \u001b[36m0:00:00\u001b[0m\n",
      "\u001b[?25hInstalling collected packages: patsy, statsmodels\n",
      "Successfully installed patsy-0.5.6 statsmodels-0.14.2\n"
     ]
    }
   ],
   "source": [
    "!pip install statsmodels"
   ]
  },
  {
   "cell_type": "code",
   "execution_count": 8,
   "id": "facffd11",
   "metadata": {},
   "outputs": [],
   "source": [
    "import os\n",
    "import math\n",
    "import requests\n",
    "import pandas as pd\n",
    "import numpy as np\n",
    "import csv\n",
    "import matplotlib.pyplot as plt\n",
    "import matplotlib.pyplot as plt\n",
    "from statsmodels.graphics.mosaicplot import mosaic\n",
    "\n",
    "### Notebook Constants\n",
    "DATA_PATH = \"https://archive.ics.uci.edu/ml/machine-learning-databases/adult/adult.data\"\n",
    "COLUMNS = ['age', 'workclass', 'fnlwgt', 'education', 'education-num', 'marital-status', \n",
    "            'occupation', 'relationship', 'race', 'sex', 'capital-gain', \n",
    "           'capital-loss', 'hours-per-week', 'native-country', 'salary'] # From archive description, fnlwgt will be ignored"
   ]
  },
  {
   "cell_type": "code",
   "execution_count": 9,
   "id": "fee9ae7b",
   "metadata": {},
   "outputs": [],
   "source": [
    "req = requests.get(DATA_PATH)\n",
    "\n",
    "csvreader = csv.reader(req.text, delimiter=\",\")"
   ]
  },
  {
   "cell_type": "code",
   "execution_count": 10,
   "id": "f9278af8",
   "metadata": {},
   "outputs": [],
   "source": [
    "def dataToDict(dataText, rowdelimiter=\"\\n\", coldelimiter=\", \"):\n",
    "    \"\"\"\n",
    "    Splits the rows for the data points by the rowdelimiter.\n",
    "    Splits the column, row-wise \n",
    "    \"\"\"\n",
    "    rows = dataText.split(rowdelimiter)[:-2] # Final two rows are blank\n",
    "    return {i: data.split(coldelimiter) for i, data in enumerate(rows)}"
   ]
  },
  {
   "cell_type": "code",
   "execution_count": 11,
   "id": "dd578d55",
   "metadata": {},
   "outputs": [
    {
     "name": "stdout",
     "output_type": "stream",
     "text": [
      "before\n",
      " 4262 values\n",
      "after\n",
      " 0 values\n"
     ]
    }
   ],
   "source": [
    "customer_data = dataToDict(req.text)\n",
    "customer_df = pd.DataFrame.from_dict(customer_data, orient='index', columns=COLUMNS)\n",
    "customer_df = customer_df.drop(\"fnlwgt\", axis=1)\n",
    "for col in [\"age\", \"education-num\", \"capital-gain\", \"capital-loss\", \"hours-per-week\"]: # Cast numerical columns to numerical data type\n",
    "    customer_df[col] = pd.to_numeric(customer_df[col])\n",
    "\n",
    "# Clean '?' Values\n",
    "print(f\"before\\n {customer_df.isin(['?']).sum().sum()} values\")\n",
    "customer_df = customer_df.replace(\"?\", \"none\")\n",
    "print(f\"after\\n {customer_df.isin(['?']).sum().sum()} values\")"
   ]
  },
  {
   "cell_type": "markdown",
   "id": "a9447a03",
   "metadata": {},
   "source": [
    "## Plotting Marital Status vs. Income"
   ]
  },
  {
   "cell_type": "code",
   "execution_count": 12,
   "id": "d0531c73",
   "metadata": {},
   "outputs": [
    {
     "data": {
      "text/plain": [
       "(<Figure size 640x480 with 3 Axes>,\n",
       " {('currently-unmarried', '<=50K'): (0.0,\n",
       "   np.float64(0.0),\n",
       "   0.5238999560106168,\n",
       "   np.float64(0.9324378374775014)),\n",
       "  ('currently-unmarried', '>50K'): (0.0,\n",
       "   np.float64(0.935760096613714),\n",
       "   0.5238999560106168,\n",
       "   np.float64(0.0642399033862859)),\n",
       "  ('currently-married', '<=50K'): (0.5288750803887262,\n",
       "   np.float64(0.0),\n",
       "   0.47112491961127384,\n",
       "   np.float64(0.5612090204604357)),\n",
       "  ('currently-married', '>50K'): (0.5288750803887262,\n",
       "   np.float64(0.5645312795966484),\n",
       "   0.47112491961127384,\n",
       "   np.float64(0.43546872040335155))})"
      ]
     },
     "execution_count": 12,
     "metadata": {},
     "output_type": "execute_result"
    },
    {
     "data": {
      "image/png": "[encoded data removed]",
      "text/plain": [
       "<Figure size 640x480 with 3 Axes>"
      ]
     },
     "metadata": {},
     "output_type": "display_data"
    }
   ],
   "source": [
    "categorical_attributes = [\"workclass\", \"education\", \"marital-status\", \"occupation\", \"relationship\", \"race\", \"sex\", \"native-country\"] # These attributes are categorical data\n",
    "\n",
    "# Create a mosaic plot associating marital status to earning less than or greater than 50K\n",
    "currently_married = ['Married-civ-spouse', 'Married-AF-spouse', 'Married-spouse-absent']\n",
    "customer_df[\"marital-status\"] = customer_df[\"marital-status\"].apply(lambda x: \"currently-married\" if x in currently_married else \"currently-unmarried\")\n",
    "mosaic(customer_df, [\"marital-status\", \"salary\"])"
   ]
  },
  {
   "cell_type": "code",
   "execution_count": null,
   "id": "26b3d574",
   "metadata": {},
   "outputs": [],
   "source": [
    "# Stacked Bar Chart\n",
    "import seaborn as sns\n",
    "temp = customer_df.groupby(['binary-marital-status', 'sex'])['salary'].value_counts().reset_index()\n",
    "# temp.groupby(['binary-marital-status', 'sex'])['count']\n",
    "# Calculate the total count for each group of binary-marital-status and sex\n",
    "group_totals = temp.groupby(['binary-marital-status', 'sex'])['count'].transform('sum')\n",
    "\n",
    "# Calculate the proportion of each count within its group\n",
    "temp['proportion'] = temp['count'] / group_totals\n",
    "\n",
    "# Grouped Bar Chart\n",
    "sns.catplot(\n",
    "    data=temp, kind=\"bar\",\n",
    "    x=\"binary-marital-status\", y=\"count\", hue=\"salary\",\n",
    "    col=\"sex\", ci=None, height=5, aspect=1\n",
    ")\n",
    "plt.subplots_adjust(top=0.9)\n",
    "plt.suptitle('Count of Salary Levels by Marital Status and Sex')\n",
    "plt.show()"
   ]
  }
 ],
 "metadata": {
  "kernelspec": {
   "display_name": "Python 3 (ipykernel)",
   "language": "python",
   "name": "python3"
  },
  "language_info": {
   "codemirror_mode": {
    "name": "ipython",
    "version": 3
   },
   "file_extension": ".py",
   "mimetype": "text/x-python",
   "name": "python",
   "nbconvert_exporter": "python",
   "pygments_lexer": "ipython3",
   "version": "3.10.13"
  }
 },
 "nbformat": 4,
 "nbformat_minor": 5
}
